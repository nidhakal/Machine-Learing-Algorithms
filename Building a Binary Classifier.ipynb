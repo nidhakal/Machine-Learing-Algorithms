{
  "nbformat": 4,
  "nbformat_minor": 0,
  "metadata": {
    "colab": {
      "name": "Lab2 .ipynb",
      "provenance": [],
      "collapsed_sections": [],
      "toc_visible": true
    },
    "kernelspec": {
      "name": "python3",
      "display_name": "Python 3"
    }
  },
  "cells": [
    {
      "cell_type": "code",
      "metadata": {
        "id": "-jI-o6MzR6f0"
      },
      "source": [
        "import pandas as pd\n",
        "import matplotlib.pyplot as plt\n"
      ],
      "execution_count": 11,
      "outputs": []
    },
    {
      "cell_type": "code",
      "metadata": {
        "id": "Ytg9F6UnZXA1"
      },
      "source": [
        "#reading the data\n",
        "data = pd.read_csv('cumulative.csv')\n",
        "data\n",
        "data = data.sample(n = 2500)"
      ],
      "execution_count": 12,
      "outputs": []
    },
    {
      "cell_type": "code",
      "metadata": {
        "colab": {
          "base_uri": "https://localhost:8080/",
          "height": 406
        },
        "id": "iwAnb2Xjdy3p",
        "outputId": "75d67cb9-3816-44bf-85ab-1d0120321e94"
      },
      "source": [
        "#selecting important columns after comparing the correlation matrix coded below\n",
        "xdata = data.drop(columns=['koi_disposition','koi_pdisposition', 'koi_tce_plnt_num', 'koi_tce_delivname', 'kepler_name', 'kepoi_name','koi_period_err1', 'koi_period_err2', 'koi_time0bk_err1', 'koi_time0bk_err2', 'koi_impact_err1', 'koi_impact_err2', 'koi_duration_err1', 'koi_duration_err2', 'koi_depth_err1', 'koi_depth_err2', 'koi_prad_err1', 'koi_prad_err2', 'koi_teq_err1', 'koi_teq_err2', 'koi_insol_err1', 'koi_insol_err2', 'koi_steff_err1', 'koi_steff_err2', 'koi_slogg_err1', 'koi_slogg_err2', 'koi_srad_err1', 'koi_srad_err2'])\n",
        "\n",
        "#cleaning the data\n",
        "data = data.dropna(axis = \"columns\")\n",
        "xdata = xdata.dropna(axis = \"columns\")\n",
        "xdata"
      ],
      "execution_count": 13,
      "outputs": [
        {
          "output_type": "execute_result",
          "data": {
            "text/html": [
              "<div>\n",
              "<style scoped>\n",
              "    .dataframe tbody tr th:only-of-type {\n",
              "        vertical-align: middle;\n",
              "    }\n",
              "\n",
              "    .dataframe tbody tr th {\n",
              "        vertical-align: top;\n",
              "    }\n",
              "\n",
              "    .dataframe thead th {\n",
              "        text-align: right;\n",
              "    }\n",
              "</style>\n",
              "<table border=\"1\" class=\"dataframe\">\n",
              "  <thead>\n",
              "    <tr style=\"text-align: right;\">\n",
              "      <th></th>\n",
              "      <th>rowid</th>\n",
              "      <th>kepid</th>\n",
              "      <th>koi_fpflag_nt</th>\n",
              "      <th>koi_fpflag_ss</th>\n",
              "      <th>koi_fpflag_co</th>\n",
              "      <th>koi_fpflag_ec</th>\n",
              "      <th>koi_period</th>\n",
              "      <th>koi_time0bk</th>\n",
              "      <th>koi_duration</th>\n",
              "      <th>ra</th>\n",
              "      <th>dec</th>\n",
              "      <th>koi_kepmag</th>\n",
              "    </tr>\n",
              "  </thead>\n",
              "  <tbody>\n",
              "    <tr>\n",
              "      <th>5283</th>\n",
              "      <td>5284</td>\n",
              "      <td>11825057</td>\n",
              "      <td>1</td>\n",
              "      <td>0</td>\n",
              "      <td>0</td>\n",
              "      <td>0</td>\n",
              "      <td>0.532088</td>\n",
              "      <td>131.972409</td>\n",
              "      <td>3.45028</td>\n",
              "      <td>296.96957</td>\n",
              "      <td>50.067093</td>\n",
              "      <td>18.852</td>\n",
              "    </tr>\n",
              "    <tr>\n",
              "      <th>4283</th>\n",
              "      <td>4284</td>\n",
              "      <td>5962262</td>\n",
              "      <td>0</td>\n",
              "      <td>0</td>\n",
              "      <td>0</td>\n",
              "      <td>0</td>\n",
              "      <td>8.617427</td>\n",
              "      <td>133.508630</td>\n",
              "      <td>2.71300</td>\n",
              "      <td>292.46387</td>\n",
              "      <td>41.299068</td>\n",
              "      <td>14.790</td>\n",
              "    </tr>\n",
              "    <tr>\n",
              "      <th>4485</th>\n",
              "      <td>4486</td>\n",
              "      <td>5651829</td>\n",
              "      <td>0</td>\n",
              "      <td>0</td>\n",
              "      <td>0</td>\n",
              "      <td>0</td>\n",
              "      <td>0.772152</td>\n",
              "      <td>132.207400</td>\n",
              "      <td>1.78000</td>\n",
              "      <td>299.46524</td>\n",
              "      <td>40.891090</td>\n",
              "      <td>13.308</td>\n",
              "    </tr>\n",
              "    <tr>\n",
              "      <th>3921</th>\n",
              "      <td>3922</td>\n",
              "      <td>7259249</td>\n",
              "      <td>0</td>\n",
              "      <td>0</td>\n",
              "      <td>1</td>\n",
              "      <td>0</td>\n",
              "      <td>0.950736</td>\n",
              "      <td>131.779400</td>\n",
              "      <td>1.14340</td>\n",
              "      <td>282.92773</td>\n",
              "      <td>42.806080</td>\n",
              "      <td>15.156</td>\n",
              "    </tr>\n",
              "    <tr>\n",
              "      <th>6682</th>\n",
              "      <td>6683</td>\n",
              "      <td>8300828</td>\n",
              "      <td>1</td>\n",
              "      <td>0</td>\n",
              "      <td>0</td>\n",
              "      <td>0</td>\n",
              "      <td>48.920056</td>\n",
              "      <td>163.962800</td>\n",
              "      <td>2.29500</td>\n",
              "      <td>292.22482</td>\n",
              "      <td>44.292770</td>\n",
              "      <td>14.981</td>\n",
              "    </tr>\n",
              "    <tr>\n",
              "      <th>...</th>\n",
              "      <td>...</td>\n",
              "      <td>...</td>\n",
              "      <td>...</td>\n",
              "      <td>...</td>\n",
              "      <td>...</td>\n",
              "      <td>...</td>\n",
              "      <td>...</td>\n",
              "      <td>...</td>\n",
              "      <td>...</td>\n",
              "      <td>...</td>\n",
              "      <td>...</td>\n",
              "      <td>...</td>\n",
              "    </tr>\n",
              "    <tr>\n",
              "      <th>2890</th>\n",
              "      <td>2891</td>\n",
              "      <td>8197560</td>\n",
              "      <td>0</td>\n",
              "      <td>0</td>\n",
              "      <td>1</td>\n",
              "      <td>0</td>\n",
              "      <td>1.024256</td>\n",
              "      <td>131.494370</td>\n",
              "      <td>2.64390</td>\n",
              "      <td>300.97794</td>\n",
              "      <td>44.089069</td>\n",
              "      <td>16.695</td>\n",
              "    </tr>\n",
              "    <tr>\n",
              "      <th>8165</th>\n",
              "      <td>8166</td>\n",
              "      <td>7385478</td>\n",
              "      <td>0</td>\n",
              "      <td>1</td>\n",
              "      <td>0</td>\n",
              "      <td>0</td>\n",
              "      <td>1.655472</td>\n",
              "      <td>133.126106</td>\n",
              "      <td>5.09197</td>\n",
              "      <td>297.74109</td>\n",
              "      <td>42.996090</td>\n",
              "      <td>11.471</td>\n",
              "    </tr>\n",
              "    <tr>\n",
              "      <th>4653</th>\n",
              "      <td>4654</td>\n",
              "      <td>9777556</td>\n",
              "      <td>0</td>\n",
              "      <td>0</td>\n",
              "      <td>0</td>\n",
              "      <td>1</td>\n",
              "      <td>1.332549</td>\n",
              "      <td>132.054900</td>\n",
              "      <td>3.08300</td>\n",
              "      <td>294.64285</td>\n",
              "      <td>46.549412</td>\n",
              "      <td>16.072</td>\n",
              "    </tr>\n",
              "    <tr>\n",
              "      <th>4460</th>\n",
              "      <td>4461</td>\n",
              "      <td>6880517</td>\n",
              "      <td>0</td>\n",
              "      <td>0</td>\n",
              "      <td>0</td>\n",
              "      <td>0</td>\n",
              "      <td>65.649100</td>\n",
              "      <td>174.793190</td>\n",
              "      <td>7.29800</td>\n",
              "      <td>296.39752</td>\n",
              "      <td>42.396919</td>\n",
              "      <td>15.858</td>\n",
              "    </tr>\n",
              "    <tr>\n",
              "      <th>1321</th>\n",
              "      <td>1322</td>\n",
              "      <td>7951018</td>\n",
              "      <td>0</td>\n",
              "      <td>0</td>\n",
              "      <td>0</td>\n",
              "      <td>0</td>\n",
              "      <td>52.758785</td>\n",
              "      <td>156.306351</td>\n",
              "      <td>6.65170</td>\n",
              "      <td>288.43576</td>\n",
              "      <td>43.763489</td>\n",
              "      <td>15.182</td>\n",
              "    </tr>\n",
              "  </tbody>\n",
              "</table>\n",
              "<p>2500 rows × 12 columns</p>\n",
              "</div>"
            ],
            "text/plain": [
              "      rowid     kepid  koi_fpflag_nt  ...         ra        dec  koi_kepmag\n",
              "5283   5284  11825057              1  ...  296.96957  50.067093      18.852\n",
              "4283   4284   5962262              0  ...  292.46387  41.299068      14.790\n",
              "4485   4486   5651829              0  ...  299.46524  40.891090      13.308\n",
              "3921   3922   7259249              0  ...  282.92773  42.806080      15.156\n",
              "6682   6683   8300828              1  ...  292.22482  44.292770      14.981\n",
              "...     ...       ...            ...  ...        ...        ...         ...\n",
              "2890   2891   8197560              0  ...  300.97794  44.089069      16.695\n",
              "8165   8166   7385478              0  ...  297.74109  42.996090      11.471\n",
              "4653   4654   9777556              0  ...  294.64285  46.549412      16.072\n",
              "4460   4461   6880517              0  ...  296.39752  42.396919      15.858\n",
              "1321   1322   7951018              0  ...  288.43576  43.763489      15.182\n",
              "\n",
              "[2500 rows x 12 columns]"
            ]
          },
          "metadata": {
            "tags": []
          },
          "execution_count": 13
        }
      ]
    },
    {
      "cell_type": "code",
      "metadata": {
        "id": "RksgcxTmeDnx"
      },
      "source": [
        "#scaling the xdata\n",
        "from sklearn.preprocessing import MinMaxScaler\n",
        "scaler = MinMaxScaler()\n",
        "\n",
        "xdata = pd.DataFrame(scaler.fit_transform(xdata), columns=xdata.columns, index=xdata.index)\n"
      ],
      "execution_count": 14,
      "outputs": []
    },
    {
      "cell_type": "code",
      "metadata": {
        "id": "TD_cce4oHvFm",
        "colab": {
          "base_uri": "https://localhost:8080/"
        },
        "outputId": "09efe468-ca31-4d59-e8ad-8c467288df39"
      },
      "source": [
        "#converting the dataframe to numpy array for the model\n",
        "import numpy as np\n",
        "\n",
        "ydata = data['koi_disposition']\n",
        "\n",
        "ytest = np.asarray(ydata[2201:2500])\n",
        "xtest = np.asarray(xdata[2201:2500]).astype(np.float64)\n",
        "xtrain = np.asarray(xdata[0:2200]).astype(np.float64)\n",
        "ytrain = np.asarray(ydata[0:2200])\n",
        "ytrain"
      ],
      "execution_count": 15,
      "outputs": [
        {
          "output_type": "execute_result",
          "data": {
            "text/plain": [
              "array(['FALSE POSITIVE', 'CANDIDATE', 'CANDIDATE', ..., 'CANDIDATE',\n",
              "       'FALSE POSITIVE', 'CANDIDATE'], dtype=object)"
            ]
          },
          "metadata": {
            "tags": []
          },
          "execution_count": 15
        }
      ]
    },
    {
      "cell_type": "code",
      "metadata": {
        "id": "NccfqXzHPlRU",
        "colab": {
          "base_uri": "https://localhost:8080/"
        },
        "outputId": "4b7fceb2-3fe9-40fe-8a75-0e20ae01fbbc"
      },
      "source": [
        " xtrain.shape\n"
      ],
      "execution_count": 16,
      "outputs": [
        {
          "output_type": "execute_result",
          "data": {
            "text/plain": [
              "(2200, 12)"
            ]
          },
          "metadata": {
            "tags": []
          },
          "execution_count": 16
        }
      ]
    },
    {
      "cell_type": "code",
      "metadata": {
        "id": "8GQm0bCua9DR",
        "colab": {
          "base_uri": "https://localhost:8080/"
        },
        "outputId": "c5f61ad1-5cdb-44de-a8e4-d38fbf7009a3"
      },
      "source": [
        " ytrain.shape"
      ],
      "execution_count": 17,
      "outputs": [
        {
          "output_type": "execute_result",
          "data": {
            "text/plain": [
              "(2200,)"
            ]
          },
          "metadata": {
            "tags": []
          },
          "execution_count": 17
        }
      ]
    },
    {
      "cell_type": "code",
      "metadata": {
        "id": "3ymJEIyUKbzL",
        "colab": {
          "base_uri": "https://localhost:8080/"
        },
        "outputId": "eaec8bb7-e15a-4963-a4f5-4db7540e4253"
      },
      "source": [
        "#converting the Ydata to a scale data where confirm:0 and false:2\n",
        "\n",
        "from sklearn.preprocessing import OrdinalEncoder\n",
        "cat_encoder = OrdinalEncoder(categories=[['CONFIRMED', 'CANDIDATE', 'FALSE POSITIVE']]) \n",
        "ytrain = ytrain.reshape(-1,1)\n",
        "ytest = ytest.reshape(-1,1)\n",
        "ytrain_em = cat_encoder.fit_transform(ytrain)\n",
        "ytest_em = cat_encoder.fit_transform(ytest)\n",
        "ytrain_em"
      ],
      "execution_count": 18,
      "outputs": [
        {
          "output_type": "execute_result",
          "data": {
            "text/plain": [
              "array([[2.],\n",
              "       [1.],\n",
              "       [1.],\n",
              "       ...,\n",
              "       [1.],\n",
              "       [2.],\n",
              "       [1.]])"
            ]
          },
          "metadata": {
            "tags": []
          },
          "execution_count": 18
        }
      ]
    },
    {
      "cell_type": "code",
      "metadata": {
        "id": "F_mYiwCKy5G0",
        "colab": {
          "base_uri": "https://localhost:8080/"
        },
        "outputId": "ad3af46e-e484-4507-9618-20e31ac4e2f8"
      },
      "source": [
        "cat_encoder.categories_"
      ],
      "execution_count": 19,
      "outputs": [
        {
          "output_type": "execute_result",
          "data": {
            "text/plain": [
              "[array(['CONFIRMED', 'CANDIDATE', 'FALSE POSITIVE'], dtype=object)]"
            ]
          },
          "metadata": {
            "tags": []
          },
          "execution_count": 19
        }
      ]
    },
    {
      "cell_type": "code",
      "metadata": {
        "colab": {
          "base_uri": "https://localhost:8080/"
        },
        "id": "oBWTZ5ZoyWG0",
        "outputId": "3fba2425-67eb-494d-b93f-c3dc65fdae24"
      },
      "source": [
        "###Performing coorelation between  xtrain and ytrain  \n",
        "\n",
        "corr_pd1 = pd.DataFrame(xtrain)\n",
        "corr_pd2 = pd.DataFrame(ytrain_em)\n",
        "result = pd.concat([corr_pd1, corr_pd2], axis=1)\n",
        "result.columns = ['rowid',\t'kepid',\t'koi_fpflag_nt','koi_fpflag_ss'\t,'koi_fpflag_co',\t'koi_fpflag_ec',\t'koi_period',\t'koi_time0bk', 'koi_duration'\t,'ra'\t,'dec',\t'koi_kepmag','koi_disposition']\n",
        "corr_matrix = result.corr()\n",
        "corr_matrix[\"koi_disposition\"].sort_values(ascending = False)"
      ],
      "execution_count": 20,
      "outputs": [
        {
          "output_type": "execute_result",
          "data": {
            "text/plain": [
              "koi_disposition    1.000000\n",
              "rowid              0.502975\n",
              "koi_fpflag_co      0.422308\n",
              "koi_fpflag_ss      0.417776\n",
              "koi_fpflag_nt      0.416842\n",
              "koi_fpflag_ec      0.314137\n",
              "koi_duration       0.158742\n",
              "koi_period         0.143340\n",
              "ra                 0.118678\n",
              "koi_time0bk        0.064020\n",
              "koi_kepmag        -0.041695\n",
              "dec               -0.086099\n",
              "kepid             -0.090087\n",
              "Name: koi_disposition, dtype: float64"
            ]
          },
          "metadata": {
            "tags": []
          },
          "execution_count": 20
        }
      ]
    },
    {
      "cell_type": "code",
      "metadata": {
        "id": "OkCSn0nWKkQO",
        "colab": {
          "base_uri": "https://localhost:8080/"
        },
        "outputId": "337b5dc3-68a3-4094-a2d8-a10e23d8eb8c"
      },
      "source": [
        "#sgdclassifier\n",
        "from sklearn.linear_model import SGDClassifier\n",
        "model = SGDClassifier(loss=\"hinge\", penalty=\"l2\")\n",
        "model.fit(xtrain, ytrain_em)"
      ],
      "execution_count": 21,
      "outputs": [
        {
          "output_type": "stream",
          "text": [
            "/usr/local/lib/python3.7/dist-packages/sklearn/utils/validation.py:760: DataConversionWarning: A column-vector y was passed when a 1d array was expected. Please change the shape of y to (n_samples, ), for example using ravel().\n",
            "  y = column_or_1d(y, warn=True)\n"
          ],
          "name": "stderr"
        },
        {
          "output_type": "execute_result",
          "data": {
            "text/plain": [
              "SGDClassifier(alpha=0.0001, average=False, class_weight=None,\n",
              "              early_stopping=False, epsilon=0.1, eta0=0.0, fit_intercept=True,\n",
              "              l1_ratio=0.15, learning_rate='optimal', loss='hinge',\n",
              "              max_iter=1000, n_iter_no_change=5, n_jobs=None, penalty='l2',\n",
              "              power_t=0.5, random_state=None, shuffle=True, tol=0.001,\n",
              "              validation_fraction=0.1, verbose=0, warm_start=False)"
            ]
          },
          "metadata": {
            "tags": []
          },
          "execution_count": 21
        }
      ]
    },
    {
      "cell_type": "code",
      "metadata": {
        "id": "jH_Tf0e_Lsec",
        "colab": {
          "base_uri": "https://localhost:8080/"
        },
        "outputId": "25636cdb-a581-4521-e5af-7d435eb365ad"
      },
      "source": [
        "#Metrics\n",
        "from sklearn.metrics import mean_squared_error, accuracy_score, explained_variance_score\n",
        "\n",
        "ypred = model.predict(xtest)\n",
        "\n",
        "#print(ypred)\n",
        "print(mean_squared_error(ytest_em, ypred))\n",
        "print(accuracy_score(ytest_em, ypred))\n",
        "print(explained_variance_score(ytest_em,ypred))"
      ],
      "execution_count": 22,
      "outputs": [
        {
          "output_type": "stream",
          "text": [
            "0.15384615384615385\n",
            "0.8561872909698997\n",
            "0.7834346754313887\n"
          ],
          "name": "stdout"
        }
      ]
    },
    {
      "cell_type": "code",
      "metadata": {
        "colab": {
          "base_uri": "https://localhost:8080/"
        },
        "id": "lDU2ox5CVfJ1",
        "outputId": "55bba814-b707-47ea-dea5-49a39f3f377e"
      },
      "source": [
        "#implementing linear regession\n",
        "from sklearn.linear_model import LinearRegression\n",
        "model2 =  LinearRegression().fit(xtrain,ytrain_em)\n",
        "\n",
        "ypred2 = model2.predict(xtest)\n",
        "\n",
        "print(mean_squared_error(ytest_em, ypred2))\n"
      ],
      "execution_count": 23,
      "outputs": [
        {
          "output_type": "stream",
          "text": [
            "0.19504253479536598\n"
          ],
          "name": "stdout"
        }
      ]
    },
    {
      "cell_type": "code",
      "metadata": {
        "colab": {
          "base_uri": "https://localhost:8080/"
        },
        "id": "pnKm0xg4D_mB",
        "outputId": "6d05efde-23c4-4cad-90da-2392a2bf41fa"
      },
      "source": [
        "#implementing another classifier\n",
        "\n",
        "from sklearn.tree import DecisionTreeClassifier\n",
        "tree_clas = DecisionTreeClassifier()\n",
        "dis_class=tree_clas.fit(xtrain, ytrain_em)\n",
        "dis_class\n",
        " \n",
        "planet_predictions = tree_clas.predict(xtest)\n",
        "\n",
        "mse = mean_squared_error(ytest_em, planet_predictions)\n",
        "acc = accuracy_score(ytest_em, planet_predictions)\n",
        "acc\n"
      ],
      "execution_count": 24,
      "outputs": [
        {
          "output_type": "execute_result",
          "data": {
            "text/plain": [
              "0.8729096989966555"
            ]
          },
          "metadata": {
            "tags": []
          },
          "execution_count": 24
        }
      ]
    },
    {
      "cell_type": "code",
      "metadata": {
        "id": "y2N4LrlQD1zN",
        "colab": {
          "base_uri": "https://localhost:8080/"
        },
        "outputId": "4f87b82b-f3d3-477f-bc1d-0d1f31129486"
      },
      "source": [
        "#crossvalidation\n",
        "\n",
        "from sklearn.model_selection import cross_val_score\n",
        "scores = cross_val_score(model,xtrain,ytrain_em, scoring=\"accuracy\", cv=3)\n",
        "scored_sqrt = np.sqrt(scores)\n",
        "scored_sqrt\n"
      ],
      "execution_count": 25,
      "outputs": [
        {
          "output_type": "stream",
          "text": [
            "/usr/local/lib/python3.7/dist-packages/sklearn/utils/validation.py:760: DataConversionWarning: A column-vector y was passed when a 1d array was expected. Please change the shape of y to (n_samples, ), for example using ravel().\n",
            "  y = column_or_1d(y, warn=True)\n",
            "/usr/local/lib/python3.7/dist-packages/sklearn/utils/validation.py:760: DataConversionWarning: A column-vector y was passed when a 1d array was expected. Please change the shape of y to (n_samples, ), for example using ravel().\n",
            "  y = column_or_1d(y, warn=True)\n",
            "/usr/local/lib/python3.7/dist-packages/sklearn/utils/validation.py:760: DataConversionWarning: A column-vector y was passed when a 1d array was expected. Please change the shape of y to (n_samples, ), for example using ravel().\n",
            "  y = column_or_1d(y, warn=True)\n"
          ],
          "name": "stderr"
        },
        {
          "output_type": "execute_result",
          "data": {
            "text/plain": [
              "array([0.93011968, 0.93075392, 0.93294996])"
            ]
          },
          "metadata": {
            "tags": []
          },
          "execution_count": 25
        }
      ]
    },
    {
      "cell_type": "code",
      "metadata": {
        "id": "xWh8Kbzyt7RG",
        "colab": {
          "base_uri": "https://localhost:8080/"
        },
        "outputId": "672ec934-2b18-4e42-c12d-54b8ba810cdf"
      },
      "source": [
        "from sklearn.model_selection import cross_val_predict\r\n",
        "ytrain_em_pred = cross_val_predict(model, xtrain, ytrain_em, cv=3)\r\n",
        "ytrain_em_pred = ytrain_em_pred.reshape(-1,1)"
      ],
      "execution_count": 26,
      "outputs": [
        {
          "output_type": "stream",
          "text": [
            "/usr/local/lib/python3.7/dist-packages/sklearn/utils/validation.py:760: DataConversionWarning: A column-vector y was passed when a 1d array was expected. Please change the shape of y to (n_samples, ), for example using ravel().\n",
            "  y = column_or_1d(y, warn=True)\n",
            "/usr/local/lib/python3.7/dist-packages/sklearn/utils/validation.py:760: DataConversionWarning: A column-vector y was passed when a 1d array was expected. Please change the shape of y to (n_samples, ), for example using ravel().\n",
            "  y = column_or_1d(y, warn=True)\n",
            "/usr/local/lib/python3.7/dist-packages/sklearn/utils/validation.py:760: DataConversionWarning: A column-vector y was passed when a 1d array was expected. Please change the shape of y to (n_samples, ), for example using ravel().\n",
            "  y = column_or_1d(y, warn=True)\n"
          ],
          "name": "stderr"
        }
      ]
    },
    {
      "cell_type": "code",
      "metadata": {
        "id": "vV_fnx3gcDWk",
        "colab": {
          "base_uri": "https://localhost:8080/"
        },
        "outputId": "798fad36-f389-474b-aa27-42a39ead4d1f"
      },
      "source": [
        "from sklearn.metrics import precision_score, recall_score, f1_score\r\n",
        "print(precision_score(ytrain_em, ytrain_em_pred, average=None))\r\n",
        "print(recall_score(ytrain_em, ytrain_em_pred, average=None))\r\n",
        "print(f1_score(ytrain_em, ytrain_em_pred, average=None))"
      ],
      "execution_count": 27,
      "outputs": [
        {
          "output_type": "stream",
          "text": [
            "[0.69640063 0.79949239 0.98114824]\n",
            "[0.84923664 0.61886051 0.98114824]\n",
            "[0.76526225 0.69767442 0.98114824]\n"
          ],
          "name": "stdout"
        }
      ]
    },
    {
      "cell_type": "code",
      "metadata": {
        "colab": {
          "base_uri": "https://localhost:8080/",
          "height": 264
        },
        "id": "nQ5CsQ1NpinD",
        "outputId": "9292aa54-127f-4a77-a67f-963686c7b60c"
      },
      "source": [
        "#roc curve \r\n",
        "from sklearn.metrics import roc_curve\r\n",
        "fpr, tpr, thresholds = roc_curve(ytrain_em, ytrain_em_pred, pos_label=1)\r\n",
        "\r\n",
        "def plot_roc_curve(fpr, tpr, label = None):\r\n",
        "  plt.plot(fpr, tpr, linewidth=2, label=label)\r\n",
        "  plt.plot([0, 1], [0, 1], 'k--')\r\n",
        "  [...]\r\n",
        "\r\n",
        "plot_roc_curve(tpr,fpr)\r\n",
        "plt.show()"
      ],
      "execution_count": 28,
      "outputs": [
        {
          "output_type": "display_data",
          "data": {
            "image/png": "[encoded data removed]",
            "text/plain": [
              "<Figure size 432x288 with 1 Axes>"
            ]
          },
          "metadata": {
            "tags": [],
            "needs_background": "light"
          }
        }
      ]
    }
  ]
}