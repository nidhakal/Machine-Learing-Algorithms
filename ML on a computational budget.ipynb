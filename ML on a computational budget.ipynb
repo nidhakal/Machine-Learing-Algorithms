{
  "nbformat": 4,
  "nbformat_minor": 0,
  "metadata": {
    "colab": {
      "name": "lab4.ipynb",
      "provenance": [],
      "collapsed_sections": [],
      "toc_visible": true
    },
    "kernel_info": {
      "name": "python3"
    },
    "kernelspec": {
      "display_name": "Python 3",
      "language": "python",
      "name": "python3"
    },
    "language_info": {
      "codemirror_mode": {
        "name": "ipython",
        "version": 3
      },
      "file_extension": ".py",
      "mimetype": "text/x-python",
      "name": "python",
      "nbconvert_exporter": "python",
      "pygments_lexer": "ipython3",
      "version": "3.7.3"
    },
    "nav_menu": {},
    "nteract": {
      "version": "0.28.0"
    },
    "toc": {
      "navigate_menu": true,
      "number_sections": true,
      "sideBar": true,
      "threshold": 6,
      "toc_cell": false,
      "toc_section_display": "block",
      "toc_window_display": false
    }
  },
  "cells": [
    {
      "cell_type": "markdown",
      "metadata": {
        "id": "H4ehH0qbkmWA"
      },
      "source": [
        "# Setup  (borrowed from the Ch. 3 notebook)"
      ]
    },
    {
      "cell_type": "markdown",
      "metadata": {
        "id": "dHeLb_X8kmWH"
      },
      "source": [
        "First, let's import a few common modules, ensure MatplotLib plots figures inline and prepare a function to save the figures. We also check that Python 3.5 or later is installed as well as Scikit-Learn ≥0.20."
      ]
    },
    {
      "cell_type": "markdown",
      "metadata": {
        "id": "A66iw8zKkmWH"
      },
      "source": [
        "from sklearn.model_selection import cross_val_score"
      ]
    },
    {
      "cell_type": "markdown",
      "metadata": {
        "id": "iN4mdL_Vlre-"
      },
      "source": [
        "Assignment submitted by: Archit Goyal and Nipurna Dhakal "
      ]
    },
    {
      "cell_type": "code",
      "metadata": {
        "id": "aFnN-F_PkmWI"
      },
      "source": [
        "# Python ≥3.5 is required\n",
        "import sys\n",
        "assert sys.version_info >= (3, 5)\n",
        "\n",
        "# Scikit-Learn ≥0.20 is required\n",
        "import sklearn\n",
        "assert sklearn.__version__ >= \"0.20\"\n",
        "\n",
        "from sklearn.linear_model import SGDClassifier\n",
        "from sklearn.model_selection import cross_val_score\n",
        "\n",
        "\n",
        "# Common imports\n",
        "import numpy as np\n",
        "import os\n",
        "\n",
        "# to make this notebook's output stable across runs\n",
        "np.random.seed(42)\n",
        "\n",
        "# To plot pretty figures\n",
        "%matplotlib inline\n",
        "import matplotlib as mpl\n",
        "import matplotlib.pyplot as plt\n",
        "mpl.rc('axes', labelsize=14)\n",
        "mpl.rc('xtick', labelsize=12)\n",
        "mpl.rc('ytick', labelsize=12)\n",
        "\n",
        "# Where to save the figures\n",
        "PROJECT_ROOT_DIR = \".\"\n",
        "CHAPTER_ID = \"classification\"\n",
        "IMAGES_PATH = os.path.join(PROJECT_ROOT_DIR, \"images\", CHAPTER_ID)\n",
        "os.makedirs(IMAGES_PATH, exist_ok=True)\n",
        "\n",
        "def save_fig(fig_id, tight_layout=True, fig_extension=\"png\", resolution=300):\n",
        "    path = os.path.join(IMAGES_PATH, fig_id + \".\" + fig_extension)\n",
        "    print(\"Saving figure\", fig_id)\n",
        "    if tight_layout:\n",
        "        plt.tight_layout()\n",
        "    plt.savefig(path, format=fig_extension, dpi=resolution)"
      ],
      "execution_count": null,
      "outputs": []
    },
    {
      "cell_type": "markdown",
      "metadata": {
        "id": "j7Wyml9tkmWJ"
      },
      "source": [
        "# Timing code\n",
        "\n",
        "(borrowed from https://stackoverflow.com/questions/7370801/measure-time-elapsed-in-python)"
      ]
    },
    {
      "cell_type": "code",
      "metadata": {
        "id": "-q_fYNNnkmWJ"
      },
      "source": [
        "from contextlib import contextmanager\n",
        "from timeit import default_timer\n",
        "\n",
        "@contextmanager\n",
        "def elapsed_timer():\n",
        "    start = default_timer()\n",
        "    elapser = lambda: default_timer() - start\n",
        "    yield lambda: elapser()\n",
        "    end = default_timer()\n",
        "    elapser = lambda: end-start\n",
        "    \n"
      ],
      "execution_count": null,
      "outputs": []
    },
    {
      "cell_type": "code",
      "metadata": {
        "colab": {
          "base_uri": "https://localhost:8080/"
        },
        "id": "7uhZMUc5kmWJ",
        "outputId": "5bbc119e-335b-4da3-b802-b1c3e8d027c6"
      },
      "source": [
        "with elapsed_timer() as my_timer:\n",
        "    sum = 0\n",
        "    for x in range(1000000):\n",
        "        sum += x\n",
        "    print(my_timer())\n",
        "    for x in range(1000000):\n",
        "        sum += x\n",
        "     \n",
        "print(my_timer())"
      ],
      "execution_count": null,
      "outputs": [
        {
          "output_type": "stream",
          "text": [
            "0.15855030600005193\n",
            "0.3011220120001781\n"
          ],
          "name": "stdout"
        }
      ]
    },
    {
      "cell_type": "markdown",
      "metadata": {
        "id": "T7GriBJbkmWK"
      },
      "source": [
        "# MNIST"
      ]
    },
    {
      "cell_type": "code",
      "metadata": {
        "colab": {
          "base_uri": "https://localhost:8080/"
        },
        "id": "RVg8lE7LkmWL",
        "outputId": "be241d2d-9847-4a9d-db9e-6eae1df997f6"
      },
      "source": [
        "from sklearn.datasets import fetch_openml\n",
        "mnist = fetch_openml('mnist_784', version=1)\n",
        "mnist.keys()"
      ],
      "execution_count": null,
      "outputs": [
        {
          "output_type": "execute_result",
          "data": {
            "text/plain": [
              "dict_keys(['data', 'target', 'frame', 'feature_names', 'target_names', 'DESCR', 'details', 'categories', 'url'])"
            ]
          },
          "metadata": {
            "tags": []
          },
          "execution_count": 4
        }
      ]
    },
    {
      "cell_type": "code",
      "metadata": {
        "colab": {
          "base_uri": "https://localhost:8080/"
        },
        "id": "Hhqh5F1NkmWL",
        "outputId": "e48fd65e-5a7d-4491-8795-ad373ddd242c"
      },
      "source": [
        "X, y = mnist[\"data\"], mnist[\"target\"]\n",
        "X.shape"
      ],
      "execution_count": null,
      "outputs": [
        {
          "output_type": "execute_result",
          "data": {
            "text/plain": [
              "(70000, 784)"
            ]
          },
          "metadata": {
            "tags": []
          },
          "execution_count": 5
        }
      ]
    },
    {
      "cell_type": "code",
      "metadata": {
        "id": "13ZV5IjskmWM"
      },
      "source": [
        "y = y.astype(np.uint8)"
      ],
      "execution_count": null,
      "outputs": []
    },
    {
      "cell_type": "code",
      "metadata": {
        "id": "Zu1if4bqkmWM"
      },
      "source": [
        "X_train, X_test, y_train, y_test = X[:60000], X[60000:], y[:60000], y[60000:]\n",
        "some_digit = X[0]\n",
        "X_train.shape\n",
        "\n",
        "from sklearn.preprocessing import StandardScaler\n",
        "\n",
        "scaler = StandardScaler()\n",
        "X_train_scaled = scaler.fit_transform(X_train.astype(np.float64))\n",
        "X_test_scaled = scaler.transform(X_test.astype(np.float64))"
      ],
      "execution_count": null,
      "outputs": []
    },
    {
      "cell_type": "markdown",
      "metadata": {
        "id": "GNnl4KMRkmWN"
      },
      "source": [
        "# Multiclass classification\n",
        "\n",
        "\n",
        "\n"
      ]
    },
    {
      "cell_type": "code",
      "metadata": {
        "id": "yibzvinUkmWN"
      },
      "source": [
        "from sklearn.linear_model import SGDClassifier\n",
        "\n",
        "sgd_clf = SGDClassifier(max_iter=1000, tol=1e-3, random_state=42)"
      ],
      "execution_count": null,
      "outputs": []
    },
    {
      "cell_type": "code",
      "metadata": {
        "id": "D-VvrTCokmWO",
        "colab": {
          "base_uri": "https://localhost:8080/"
        },
        "outputId": "3a15f635-c522-4535-dbec-1013f02bf7d4"
      },
      "source": [
        "with elapsed_timer() as sgd_timer:\n",
        "    sgd_clf.fit(X_train_scaled, y_train)\n",
        "print(f\"sgd_clf.fit took {sgd_timer():.3f} secs\")  # 380 seconds on my laptop\n",
        "sgd_clf.predict([some_digit])"
      ],
      "execution_count": null,
      "outputs": [
        {
          "output_type": "stream",
          "text": [
            "sgd_clf.fit took 385.399 secs\n"
          ],
          "name": "stdout"
        },
        {
          "output_type": "execute_result",
          "data": {
            "text/plain": [
              "array([3], dtype=uint8)"
            ]
          },
          "metadata": {
            "tags": []
          },
          "execution_count": 9
        }
      ]
    },
    {
      "cell_type": "code",
      "metadata": {
        "id": "vgBQiFZMkmWP",
        "colab": {
          "base_uri": "https://localhost:8080/"
        },
        "outputId": "b2d4dae4-726b-4c13-ada2-e45995300df7"
      },
      "source": [
        "sgd_clf.score(X_test_scaled, y_test)"
      ],
      "execution_count": null,
      "outputs": [
        {
          "output_type": "execute_result",
          "data": {
            "text/plain": [
              "0.8933"
            ]
          },
          "metadata": {
            "tags": []
          },
          "execution_count": 10
        }
      ]
    },
    {
      "cell_type": "code",
      "metadata": {
        "id": "9_mGK10zkmWO",
        "colab": {
          "base_uri": "https://localhost:8080/"
        },
        "outputId": "d2b55b44-2079-4b78-fa59-3dd2806b6a1d"
      },
      "source": [
        "sgd_clf.decision_function([some_digit])"
      ],
      "execution_count": null,
      "outputs": [
        {
          "output_type": "execute_result",
          "data": {
            "text/plain": [
              "array([[ -52074.00622961,  -90932.76755577,  -20253.71519718,\n",
              "          13700.40693397, -153621.49226805,   -4632.87432725,\n",
              "        -107360.91391427,  -90145.62086593,    -980.42911341,\n",
              "         -44100.09135652]])"
            ]
          },
          "metadata": {
            "tags": []
          },
          "execution_count": 11
        }
      ]
    },
    {
      "cell_type": "code",
      "metadata": {
        "id": "cFAczIlgkmWP",
        "colab": {
          "base_uri": "https://localhost:8080/"
        },
        "outputId": "7ad08f92-f425-4cfe-f689-e030cee7c3a6"
      },
      "source": [
        "# This involves training 3 models - it's going to take a while\n",
        "cross_val_score(sgd_clf, X_train_scaled[:3000], y_train[:3000], cv=3, scoring=\"accuracy\")"
      ],
      "execution_count": null,
      "outputs": [
        {
          "output_type": "execute_result",
          "data": {
            "text/plain": [
              "array([0.85 , 0.853, 0.88 ])"
            ]
          },
          "metadata": {
            "tags": []
          },
          "execution_count": 26
        }
      ]
    },
    {
      "cell_type": "markdown",
      "metadata": {
        "id": "pAV_uDAy9WPE"
      },
      "source": [
        "#DIFFERENT TIMINGS FOR SVC AND OVR"
      ]
    },
    {
      "cell_type": "code",
      "metadata": {
        "id": "i3XwXfk2kmWN"
      },
      "source": [
        "from sklearn.svm import SVC\n",
        "\n",
        "def svc_time(x, y, a, b):\n",
        "  svm_clf = SVC(gamma=\"auto\", random_state=42)\n",
        "  with elapsed_timer() as svc_timer:\n",
        "    svm_clf.fit(x[:a], y[:a]) \n",
        "    print(f\"svm_clf.fit with {a} data took {svc_timer():.3f} secs\")\n",
        "    #accuracy of the model\n",
        "    print(cross_val_score(svm_clf, x[a:b], y[a:b], cv=3, scoring=\"accuracy\"))\n",
        "\n"
      ],
      "execution_count": null,
      "outputs": []
    },
    {
      "cell_type": "code",
      "metadata": {
        "id": "2ipA_9l_7_51",
        "colab": {
          "base_uri": "https://localhost:8080/"
        },
        "outputId": "44b43498-0371-4a3c-d859-fb951bd5388c"
      },
      "source": [
        "svc_time(X_train_scaled, y_train, 5000, 7000)\n",
        "svc_time(X_train_scaled, y_train, 10000, 12000)\n",
        "svc_time(X_train_scaled, y_train, 15000, 17000)"
      ],
      "execution_count": null,
      "outputs": [
        {
          "output_type": "stream",
          "text": [
            "svm_clf.fit with 5000 data took 15.199 secs\n",
            "[0.87406297 0.91004498 0.87837838]\n",
            "svm_clf.fit with 10000 data took 49.076 secs\n",
            "[0.91604198 0.91304348 0.86936937]\n",
            "svm_clf.fit with 15000 data took 94.142 secs\n",
            "[0.89805097 0.87256372 0.87387387]\n"
          ],
          "name": "stdout"
        }
      ]
    },
    {
      "cell_type": "code",
      "metadata": {
        "id": "6FHCUowzkmWN"
      },
      "source": [
        "from sklearn.multiclass import OneVsRestClassifier\n",
        "def ovr_time(x, y, a, b):\n",
        "  ovr_clf = OneVsRestClassifier(SVC(gamma=\"auto\", random_state=42))\n",
        "  with elapsed_timer() as ovr_timer:\n",
        "    ovr_clf.fit(x[:a], y[:a])\n",
        "    print(f\"ovr_clf.fit with {a} data took {ovr_timer():.3f} secs\")\n",
        "    #accuracy of the model\n",
        "    print(cross_val_score(ovr_clf, x[a:b], y[a:b], cv=3, scoring=\"accuracy\"))\n",
        "\n"
      ],
      "execution_count": null,
      "outputs": []
    },
    {
      "cell_type": "code",
      "metadata": {
        "id": "MDAfD_pj88WQ",
        "colab": {
          "base_uri": "https://localhost:8080/"
        },
        "outputId": "582f4810-b9c6-49fc-85b6-31c78fab9e4a"
      },
      "source": [
        "ovr_time(X_train_scaled, y_train, 5000, 7000)\n",
        "ovr_time(X_train_scaled, y_train, 10000, 12000)\n",
        "ovr_time(X_train_scaled, y_train, 15000, 17000)\n"
      ],
      "execution_count": null,
      "outputs": [
        {
          "output_type": "stream",
          "text": [
            "ovr_clf.fit with 5000 data took 51.335 secs\n",
            "[0.86806597 0.91154423 0.89039039]\n",
            "ovr_clf.fit with 10000 data took 165.755 secs\n",
            "[0.92053973 0.90554723 0.85885886]\n",
            "ovr_clf.fit with 15000 data took 337.554 secs\n",
            "[0.88755622 0.87406297 0.86186186]\n"
          ],
          "name": "stdout"
        }
      ]
    },
    {
      "cell_type": "markdown",
      "metadata": {
        "id": "OwYqilpP10Z7"
      },
      "source": [
        "\n",
        "\n",
        "#Trying out the Random Forest Classifier and Minst Importance feature \n",
        "\n"
      ]
    },
    {
      "cell_type": "code",
      "metadata": {
        "id": "0eGWgYSA2MLd"
      },
      "source": [
        "from sklearn.ensemble import RandomForestClassifier\n",
        "rnd_clf = RandomForestClassifier(n_estimators=100, random_state=42)\n",
        "rnd_clf.fit(X_train_scaled[:10000], y_train[:10000]) \n"
      ],
      "execution_count": null,
      "outputs": []
    },
    {
      "cell_type": "code",
      "metadata": {
        "id": "5D1HWDyckmWP"
      },
      "source": [
        "def plot_digit(data):\n",
        "    image = data.reshape(28, 28)\n",
        "    plt.imshow(image, cmap = mpl.cm.hot,\n",
        "               interpolation=\"nearest\")\n",
        "    plt.axis(\"off\")"
      ],
      "execution_count": null,
      "outputs": []
    },
    {
      "cell_type": "code",
      "metadata": {
        "id": "T7rG6O2q08Xx",
        "colab": {
          "base_uri": "https://localhost:8080/",
          "height": 314
        },
        "outputId": "5d0cecf7-81d0-465c-c351-992b1941467e"
      },
      "source": [
        "plot_digit(rnd_clf.feature_importances_)\n",
        "\n",
        "cbar = plt.colorbar(ticks=[rnd_clf.feature_importances_.min(), rnd_clf.feature_importances_.max()])\n",
        "cbar.ax.set_yticklabels(['Not important', 'Very important'])\n",
        "\n",
        "save_fig(\"mnist_feature_importance_plot\")\n",
        "plt.show()"
      ],
      "execution_count": null,
      "outputs": [
        {
          "output_type": "stream",
          "text": [
            "Saving figure mnist_feature_importance_plot\n"
          ],
          "name": "stdout"
        },
        {
          "output_type": "display_data",
          "data": {
            "image/png": "[encoded data removed]",
            "text/plain": [
              "<Figure size 432x288 with 2 Axes>"
            ]
          },
          "metadata": {
            "tags": [],
            "needs_background": "light"
          }
        }
      ]
    },
    {
      "cell_type": "markdown",
      "metadata": {
        "id": "40eC6fLbHEBG"
      },
      "source": [
        "#Slicing and reshaping the data "
      ]
    },
    {
      "cell_type": "code",
      "metadata": {
        "id": "5cSkVwxYL377",
        "colab": {
          "base_uri": "https://localhost:8080/"
        },
        "outputId": "1136170a-f5fb-4d0b-eeb6-8068cf6cb41f"
      },
      "source": [
        "#reshaping the 1d array to 2d\n",
        "Xp = X_train_scaled.reshape(60000,28, 28)\n",
        "Xp = Xp[:20000]\n",
        "\n",
        "#removing 2 rows and columns each side\n",
        "X2= Xp[0, 2:-2, 2:-2]\n",
        "print(Xp.shape)\n",
        "for i in range (1, Xp.shape[0]):\n",
        "    X2 = np.append(X2, Xp[i, 2:-2, 2:-2])\n",
        "X2 = X2.reshape(20000,576)\n",
        "print(X2.shape)\n",
        "\n",
        "#removing 5 rows and columns each side\n",
        "X5 = Xp[0, 5:-5, 5:-5]\n",
        "for i in range (1, Xp.shape[0]):\n",
        "  X5 = np.append(X5, Xp[i, 5:-5, 5:-5])\n",
        "X5 = X5.reshape(20000,324)\n",
        "print(X5.shape)\n",
        "\n",
        "ovr_time(X2, y_train, 5000, 7000)\n",
        "ovr_time(X2, y_train, 10000, 12000) \n",
        "ovr_time(X2, y_train, 15000, 17000)\n",
        "\n",
        "ovr_time(X5, y_train, 5000, 7000)\n",
        "ovr_time(X5, y_train, 10000, 12000)\n",
        "ovr_time(X5, y_train, 15000, 17000)"
      ],
      "execution_count": null,
      "outputs": [
        {
          "output_type": "stream",
          "text": [
            "(20000, 28, 28)\n",
            "(20000, 576)\n",
            "(20000, 324)\n",
            "ovr_clf.fit with 5000 data took 37.566 secs\n",
            "[0.88455772 0.92503748 0.8963964 ]\n",
            "ovr_clf.fit with 10000 data took 123.405 secs\n",
            "[0.92053973 0.91004498 0.87087087]\n",
            "ovr_clf.fit with 15000 data took 250.486 secs\n",
            "[0.89805097 0.88905547 0.87837838]\n",
            "ovr_clf.fit with 5000 data took 18.522 secs\n",
            "[0.91754123 0.94602699 0.90540541]\n",
            "ovr_clf.fit with 10000 data took 59.032 secs\n",
            "[0.92803598 0.92353823 0.9009009 ]\n",
            "ovr_clf.fit with 15000 data took 116.473 secs\n",
            "[0.92503748 0.89205397 0.91591592]\n"
          ],
          "name": "stdout"
        }
      ]
    },
    {
      "cell_type": "code",
      "metadata": {
        "id": "yUVXLttHLJTR"
      },
      "source": [
        "import numpy.ma as ma\n",
        "#selecting X features according to importance\n",
        "\n",
        "X_important_features = ma.masked_where(rnd_clf.feature_importances_ > 1.350000e-03, rnd_clf.feature_importances_ )\n",
        "X_important_features.mask\n",
        "\n",
        "X_importance_reduction = np.zeros((60000, 255))\n",
        "\n",
        "X_masking = X_train_scaled.copy()\n",
        "print(X_masking.shape)\n",
        "for m in range (0, 60000):\n",
        "    X_mask_temp = X_masking[m]\n",
        "    X_importance_reduction[m] = np.array(X_mask_temp[X_important_features.mask])\n",
        "\n",
        "X_importance_reduction"
      ],
      "execution_count": null,
      "outputs": []
    },
    {
      "cell_type": "code",
      "metadata": {
        "id": "nC6BMAYNduOv",
        "colab": {
          "base_uri": "https://localhost:8080/"
        },
        "outputId": "98e0a3b6-8b3f-4994-ad24-39c376fef1d2"
      },
      "source": [
        "ovr_time(X_importance_reduction, y_train, 5000, 7000)\n",
        "ovr_time(X_importance_reduction, y_train, 10000, 12000)\n",
        "ovr_time(X_importance_reduction, y_train, 15000, 17000)\n"
      ],
      "execution_count": null,
      "outputs": [
        {
          "output_type": "stream",
          "text": [
            "ovr_clf.fit with 5000 data took 13.522 secs\n",
            "[0.91304348 0.94452774 0.91291291]\n",
            "ovr_clf.fit with 10000 data took 44.204 secs\n",
            "[0.91904048 0.92953523 0.8993994 ]\n",
            "ovr_clf.fit with 15000 data took 87.302 secs\n",
            "[0.92503748 0.89805097 0.91741742]\n"
          ],
          "name": "stdout"
        }
      ]
    },
    {
      "cell_type": "code",
      "metadata": {
        "colab": {
          "base_uri": "https://localhost:8080/"
        },
        "id": "b8kCKa0r_ROh",
        "outputId": "eb280cfb-245e-478e-c1a1-5ca8ded12d92"
      },
      "source": [
        "#PCA to reduce the dimensionality of the space\n",
        "\n",
        "from sklearn.decomposition import PCA\n",
        "\n",
        "pca = PCA(n_components = 2)\n",
        "X2D = pca.fit_transform(X_train_scaled)\n",
        "\n",
        "pca.components_.T[:, 0]\n",
        "pca.explained_variance_ratio_\n",
        "\n",
        "ovr_time(X2D, y_train, 5000, 7000)\n",
        "ovr_time(X2D, y_train, 10000, 12000)\n",
        "ovr_time(X2D, y_train, 15000, 17000)"
      ],
      "execution_count": null,
      "outputs": [
        {
          "output_type": "stream",
          "text": [
            "ovr_clf.fit with 5000 data took 6.456 secs\n",
            "[0.30884558 0.31034483 0.2957958 ]\n",
            "ovr_clf.fit with 10000 data took 23.213 secs\n",
            "[0.33433283 0.33283358 0.33033033]\n",
            "ovr_clf.fit with 15000 data took 50.718 secs\n",
            "[0.31034483 0.29235382 0.34534535]\n"
          ],
          "name": "stdout"
        }
      ]
    },
    {
      "cell_type": "code",
      "metadata": {
        "id": "IOKLT8DEEsu0",
        "colab": {
          "base_uri": "https://localhost:8080/"
        },
        "outputId": "bc7e4ba3-f65e-4b12-d245-88f8eec9ba5b"
      },
      "source": [
        "#PCA with 80% variance\n",
        "\n",
        "pca2 = PCA(n_components=0.8)\n",
        "X_reduced = pca2.fit_transform(X_train_scaled)\n",
        "\n",
        "X_reduced.shape\n",
        "pca2.explained_variance_ratio_\n",
        "\n",
        "ovr_time(X_reduced, y_train, 5000, 7000)\n",
        "ovr_time(X_reduced, y_train, 10000, 12000)\n",
        "ovr_time(X_reduced, y_train, 15000, 17000)"
      ],
      "execution_count": null,
      "outputs": [
        {
          "output_type": "stream",
          "text": [
            "ovr_clf.fit with 5000 data took 24.775 secs\n",
            "[0.87256372 0.89055472 0.87837838]\n",
            "ovr_clf.fit with 10000 data took 91.075 secs\n",
            "[0.88905547 0.88155922 0.84984985]\n",
            "ovr_clf.fit with 15000 data took 275.326 secs\n",
            "[0.87406297 0.86056972 0.85435435]\n"
          ],
          "name": "stdout"
        }
      ]
    }
  ]
}